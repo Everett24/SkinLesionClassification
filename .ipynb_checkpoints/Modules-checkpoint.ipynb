{
 "cells": [
  {
   "cell_type": "code",
   "execution_count": 1,
   "id": "e770a3b9",
   "metadata": {},
   "outputs": [],
   "source": [
    "import numpy as np\n",
    "import pandas as pd\n",
    "import tensorflow as tf\n",
    "from tensorflow import keras\n",
    "from tensorflow.keras import layers\n",
    "import matplotlib.pyplot as plt\n",
    "import matplotlib.image as mpimg\n",
    "import tensorflow_datasets as tfds "
   ]
  },
  {
   "cell_type": "code",
   "execution_count": 2,
   "id": "cc29d7a5",
   "metadata": {},
   "outputs": [],
   "source": [
    "images_dir = 'data/HAM10000_images/'\n",
    "df = pd.read_csv('data/HAM10000_metadata')"
   ]
  },
  {
   "cell_type": "code",
   "execution_count": 3,
   "id": "78424472",
   "metadata": {},
   "outputs": [],
   "source": [
    "classes = df['dx'].unique().tolist()"
   ]
  },
  {
   "cell_type": "code",
   "execution_count": 4,
   "id": "e6489203",
   "metadata": {},
   "outputs": [],
   "source": [
    "df = df.drop_duplicates(subset=['lesion_id'])"
   ]
  },
  {
   "cell_type": "code",
   "execution_count": 5,
   "id": "54a6dcef",
   "metadata": {},
   "outputs": [],
   "source": [
    "paths = df['image_id'].apply(lambda x: x + '.jpg')\n",
    "paths = paths.tolist()\n",
    "labels = df['dx'].apply(lambda x: classes.index(x))"
   ]
  },
  {
   "cell_type": "code",
   "execution_count": 6,
   "id": "feb3d161",
   "metadata": {},
   "outputs": [
    {
     "data": {
      "text/plain": [
       "('ISIC_0025276.jpg', 0)"
      ]
     },
     "execution_count": 6,
     "metadata": {},
     "output_type": "execute_result"
    }
   ],
   "source": [
    "test = list(zip(paths,labels))\n",
    "test[5]"
   ]
  },
  {
   "cell_type": "code",
   "execution_count": 7,
   "id": "0e32a250",
   "metadata": {},
   "outputs": [
    {
     "data": {
      "text/plain": [
       "(450, 600, 3)"
      ]
     },
     "execution_count": 7,
     "metadata": {},
     "output_type": "execute_result"
    }
   ],
   "source": [
    "img = mpimg.imread(images_dir+paths[7])\n",
    "# imgplot = plt.imshow(img)\n",
    "# plt.show()\n",
    "img.shape"
   ]
  },
  {
   "cell_type": "code",
   "execution_count": 8,
   "id": "fd9dbe6f",
   "metadata": {},
   "outputs": [],
   "source": [
    "# tf.compat.v1.enable_eager_execution()\n",
    "# tf.enable_eager_execution()"
   ]
  },
  {
   "cell_type": "code",
   "execution_count": 9,
   "id": "2b19735b",
   "metadata": {
    "scrolled": true
   },
   "outputs": [
    {
     "name": "stdout",
     "output_type": "stream",
     "text": [
      "<class 'tensorflow.python.framework.ops.Tensor'>\n"
     ]
    }
   ],
   "source": [
    "ds_train = tf.data.Dataset.from_tensor_slices((paths,labels))\n",
    "def read_image(file,label):\n",
    "    img = tf.io.read_file(images_dir+file)\n",
    "    img = tf.image.decode_jpeg(img, channels=3)\n",
    "    \n",
    "    # Workaround\n",
    "    img.set_shape([450, 600, 3])\n",
    "\n",
    "    img = tf.image.resize(img, [720, 512])\n",
    "#     img = img[tf.newaxis, :]\n",
    "    print(type(img))\n",
    "\n",
    "    return img,label\n",
    "def augment(image,label):\n",
    "    #stuff?\n",
    "    #image = tf.image.reshape(image,)\n",
    "    return image,label\n",
    "\n",
    "ds_train = ds_train.map(read_image).map(augment).batch(2)\n",
    "\n",
    "#ds_numpy = tfds.as_numpy(ds_train)\n"
   ]
  },
  {
   "cell_type": "code",
   "execution_count": 10,
   "id": "6ed61cba",
   "metadata": {},
   "outputs": [],
   "source": [
    "# for next_element in ds_train:\n",
    "#     tf.print(next_element)"
   ]
  },
  {
   "cell_type": "code",
   "execution_count": 11,
   "id": "81be6608",
   "metadata": {
    "scrolled": true
   },
   "outputs": [
    {
     "data": {
      "text/plain": [
       "(<tf.Tensor: shape=(2, 720, 512, 3), dtype=float32, numpy=\n",
       " array([[[[184.91406 , 147.08594 , 187.82812 ],\n",
       "          [184.51562 , 148.51562 , 186.51562 ],\n",
       "          [186.85938 , 150.42969 , 189.71875 ],\n",
       "          ...,\n",
       "          [193.28125 , 154.42969 , 166.71094 ],\n",
       "          [194.25781 , 155.48438 , 168.74219 ],\n",
       "          [194.91406 , 157.82812 , 166.25781 ]],\n",
       " \n",
       "         [[184.22705 , 147.63623 , 188.92871 ],\n",
       "          [185.60254 , 150.15283 , 189.11328 ],\n",
       "          [186.9209  , 151.93018 , 190.09473 ],\n",
       "          ...,\n",
       "          [193.1582  , 154.6792  , 166.89893 ],\n",
       "          [193.70752 , 156.896   , 168.74219 ],\n",
       "          [193.27686 , 157.97852 , 166.65771 ]],\n",
       " \n",
       "         [[183.40088 , 148.34375 , 190.44727 ],\n",
       "          [187.04834 , 152.25781 , 192.48926 ],\n",
       "          [187.16064 , 153.85938 , 190.80957 ],\n",
       "          ...,\n",
       "          [193.0625  , 155.0625  , 167.20312 ],\n",
       "          [193.10889 , 158.58789 , 168.80469 ],\n",
       "          [191.354   , 158.0415  , 167.17725 ]],\n",
       " \n",
       "         ...,\n",
       " \n",
       "         [[154.03369 , 121.18945 , 150.48633 ],\n",
       "          [153.83594 , 122.18115 , 152.7583  ],\n",
       "          [156.03564 , 122.63281 , 150.77344 ],\n",
       "          ...,\n",
       "          [177.50635 , 148.22656 , 162.58496 ],\n",
       "          [172.88232 , 144.75732 , 158.63232 ],\n",
       "          [172.98193 , 142.11475 , 157.64648 ]],\n",
       " \n",
       "         [[152.78906 , 120.00928 , 150.06445 ],\n",
       "          [152.50342 , 121.40527 , 150.6372  ],\n",
       "          [154.7959  , 120.64111 , 149.74854 ],\n",
       "          ...,\n",
       "          [177.33643 , 147.72656 , 164.16455 ],\n",
       "          [173.6084  , 145.46338 , 159.2085  ],\n",
       "          [172.49658 , 142.26855 , 154.91504 ]],\n",
       " \n",
       "         [[151.91406 , 119.171875, 149.91406 ],\n",
       "          [151.51562 , 120.74219 , 149.      ],\n",
       "          [153.85938 , 119.140625, 149.      ],\n",
       "          ...,\n",
       "          [177.14844 , 147.28906 , 165.28906 ],\n",
       "          [174.25781 , 146.      , 159.54688 ],\n",
       "          [172.17188 , 142.34375 , 152.51562 ]]],\n",
       " \n",
       " \n",
       "        [[[185.91406 , 128.      , 139.48438 ],\n",
       "          [184.48438 , 127.484375, 133.74219 ],\n",
       "          [184.71875 , 126.859375, 133.42969 ],\n",
       "          ...,\n",
       "          [120.14844 ,  85.28906 ,  99.57031 ],\n",
       "          [118.      ,  84.      , 100.      ],\n",
       "          [120.74219 ,  80.34375 ,  98.171875]],\n",
       " \n",
       "         [[184.71436 , 127.924805, 136.53467 ],\n",
       "          [184.59717 , 126.609375, 132.55615 ],\n",
       "          [184.78027 , 126.54834 , 134.05518 ],\n",
       "          ...,\n",
       "          [121.146484,  84.913086,  99.13281 ],\n",
       "          [120.399414,  83.67529 ,  99.5625  ],\n",
       "          [121.76758 ,  79.90625 ,  96.53467 ]],\n",
       " \n",
       "         [[183.29688 , 127.953125, 132.87793 ],\n",
       "          [184.8833  , 125.59326 , 131.24902 ],\n",
       "          [184.96631 , 126.103516, 134.87695 ],\n",
       "          ...,\n",
       "          [122.7334  ,  84.438965,  98.66016 ],\n",
       "          [123.68799 ,  83.086426,  98.92139 ],\n",
       "          [123.04492 ,  79.61328 ,  94.70996 ]],\n",
       " \n",
       "         ...,\n",
       " \n",
       "         [[184.10693 , 128.86768 , 125.51367 ],\n",
       "          [184.16846 , 128.125   , 124.80469 ],\n",
       "          [186.65137 , 127.6416  , 132.06787 ],\n",
       "          ...,\n",
       "          [101.62793 ,  60.8584  ,  61.73535 ],\n",
       "          [ 97.53125 ,  61.0708  ,  59.66504 ],\n",
       "          [100.72754 ,  56.856445,  59.31787 ]],\n",
       " \n",
       "         [[183.9624  , 129.05908 , 123.78223 ],\n",
       "          [183.86865 , 129.10742 , 125.05957 ],\n",
       "          [185.2334  , 127.49121 , 130.62354 ],\n",
       "          ...,\n",
       "          [ 99.438965,  60.671387,  60.726562],\n",
       "          [ 96.32373 ,  59.072266,  57.02539 ],\n",
       "          [ 98.97949 ,  55.208008,  56.70166 ]],\n",
       " \n",
       "         [[184.      , 129.17188 , 122.25781 ],\n",
       "          [183.74219 , 129.96875 , 125.25781 ],\n",
       "          [183.85938 , 127.42969 , 129.4375  ],\n",
       "          ...,\n",
       "          [ 98.      ,  60.859375,  60.289062],\n",
       "          [ 95.77344 ,  57.773438,  55.289062],\n",
       "          [ 97.74219 ,  54.257812,  54.914062]]]], dtype=float32)>,\n",
       " <tf.Tensor: shape=(2,), dtype=int64, numpy=array([0, 0])>)"
      ]
     },
     "execution_count": 11,
     "metadata": {},
     "output_type": "execute_result"
    }
   ],
   "source": [
    "iterator = iter(ds_train)\n",
    "next_element = iterator.get_next()\n",
    "next_element"
   ]
  },
  {
   "cell_type": "code",
   "execution_count": 12,
   "id": "289826ab",
   "metadata": {},
   "outputs": [
    {
     "name": "stdout",
     "output_type": "stream",
     "text": [
      "TensorFlow version: 2.5.0\n",
      "Eager execution: True\n"
     ]
    }
   ],
   "source": [
    "\n",
    "print(\"TensorFlow version: {}\".format(tf.__version__))\n",
    "print(\"Eager execution: {}\".format(tf.executing_eagerly()))"
   ]
  },
  {
   "cell_type": "code",
   "execution_count": 13,
   "id": "71cd9f96",
   "metadata": {},
   "outputs": [],
   "source": [
    "import os\n",
    "import cv2\n",
    "from glob import glob"
   ]
  },
  {
   "cell_type": "code",
   "execution_count": 14,
   "id": "b6006f1e",
   "metadata": {},
   "outputs": [],
   "source": [
    "def load_data(path,files):\n",
    "    images=[]\n",
    "    for f in files:\n",
    "        images.append(glob(os.path.join(path,'HAM10000_images/'+f)))\n",
    "    return images\n",
    "\n",
    "def read_image(path):\n",
    "    x = cv2.imread(path,cv2.IMREAD_COLOR)\n",
    "    x = cv2.resize(x,(256,256))\n",
    "    x = x/255.0\n",
    "    x = x.astype(np.float32)\n",
    "    return x\n",
    "\n",
    "def preprocess(x,y):\n",
    "    def f(x,y):\n",
    "        x = x[0].decode()\n",
    "        x = read_image(x)\n",
    "        return x,y\n",
    "    img,label = tf.numpy_function(f,[x,y],[tf.float32,tf.int32])\n",
    "    img.set_shape([256,256,3])\n",
    "    return img,label\n",
    "\n",
    "def tf_dataset(x,y,batch=8):\n",
    "    ds = tf.data.Dataset.from_tensor_slices((x,y))\n",
    "    ds = ds.shuffle(buffer_size=10)\n",
    "    ds = ds.map(preprocess)\n",
    "    ds = ds.batch(batch)\n",
    "    ds = ds.prefetch(2)\n",
    "    return ds"
   ]
  },
  {
   "cell_type": "code",
   "execution_count": 15,
   "id": "cd99c240",
   "metadata": {},
   "outputs": [],
   "source": [
    "imgs = load_data('data/',paths)"
   ]
  },
  {
   "cell_type": "code",
   "execution_count": 16,
   "id": "35793372",
   "metadata": {},
   "outputs": [],
   "source": [
    "classes = df['dx'].unique().tolist()"
   ]
  },
  {
   "cell_type": "code",
   "execution_count": 17,
   "id": "d11dceee",
   "metadata": {},
   "outputs": [],
   "source": [
    "df = pd.read_csv('data/HAM10000_metadata')\n",
    "df = df.drop_duplicates(subset=['lesion_id'])\n",
    "labels = df['dx'].apply(lambda x: classes.index(x))\n",
    "labels = labels.tolist()\n",
    "paths = df['image_id'].apply(lambda x: x + '.jpg')\n",
    "paths = paths.tolist()"
   ]
  },
  {
   "cell_type": "code",
   "execution_count": 21,
   "id": "cc0904db",
   "metadata": {
    "scrolled": true
   },
   "outputs": [],
   "source": [
    "ds = tf_dataset(imgs,labels,batch=1)\n",
    "for x,y in ds:\n",
    "    x = x[0]\n",
    "    y = y[0]\n",
    "    x = x.numpy()\n",
    "    \n",
    "#     print(classes[y[0]])\n",
    "#     print(x.shape)"
   ]
  },
  {
   "cell_type": "code",
   "execution_count": 19,
   "id": "3dd23d16",
   "metadata": {},
   "outputs": [
    {
     "data": {
      "text/plain": [
       "(7470, 7470)"
      ]
     },
     "execution_count": 19,
     "metadata": {},
     "output_type": "execute_result"
    }
   ],
   "source": [
    "len(paths),len(labels)"
   ]
  },
  {
   "cell_type": "code",
   "execution_count": null,
   "id": "b624a781",
   "metadata": {},
   "outputs": [],
   "source": []
  }
 ],
 "metadata": {
  "kernelspec": {
   "display_name": "Python 3",
   "language": "python",
   "name": "python3"
  },
  "language_info": {
   "codemirror_mode": {
    "name": "ipython",
    "version": 3
   },
   "file_extension": ".py",
   "mimetype": "text/x-python",
   "name": "python",
   "nbconvert_exporter": "python",
   "pygments_lexer": "ipython3",
   "version": "3.8.10"
  }
 },
 "nbformat": 4,
 "nbformat_minor": 5
}
